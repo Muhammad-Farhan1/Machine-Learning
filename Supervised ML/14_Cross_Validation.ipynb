{
 "cells": [
  {
   "cell_type": "markdown",
   "id": "b4c154df",
   "metadata": {},
   "source": [
    "# Cross Validation Types\n",
    "- K-Fold\n",
    "- Stratified K-Fold\n",
    "- Leave-One-Out Cross-Validation (LOOCV)\n",
    "- ShuffleSplit\n",
    "- Time Series Split"
   ]
  },
  {
   "cell_type": "markdown",
   "id": "29cd6b53",
   "metadata": {},
   "source": [
    "# K-Fold"
   ]
  },
  {
   "cell_type": "code",
   "execution_count": 1,
   "id": "bf5d6bb3",
   "metadata": {},
   "outputs": [],
   "source": [
    "#K-Fold\n",
    "import numpy as np\n",
    "from sklearn.model_selection import KFold , cross_val_score\n",
    "from sklearn.linear_model import LogisticRegression\n",
    "from sklearn.datasets import load_breast_cancer"
   ]
  },
  {
   "cell_type": "code",
   "execution_count": 2,
   "id": "fd7da4f2",
   "metadata": {},
   "outputs": [],
   "source": [
    "data = load_breast_cancer()"
   ]
  },
  {
   "cell_type": "code",
   "execution_count": 3,
   "id": "4dc35944",
   "metadata": {},
   "outputs": [],
   "source": [
    "X = data.data\n",
    "y = data.target"
   ]
  },
  {
   "cell_type": "code",
   "execution_count": 4,
   "id": "b1113862",
   "metadata": {},
   "outputs": [],
   "source": [
    "model = LogisticRegression(max_iter=5000)"
   ]
  },
  {
   "cell_type": "code",
   "execution_count": 5,
   "id": "04556fdf",
   "metadata": {},
   "outputs": [
    {
     "name": "stdout",
     "output_type": "stream",
     "text": [
      "accuracy per fold [0.95614035 0.96491228 0.93859649 0.97368421 0.92035398]\n",
      "Mean Accuracy of K-Fold 0.9507374631268437\n"
     ]
    }
   ],
   "source": [
    "kf = KFold(n_splits=5 , shuffle=True , random_state=42)\n",
    "scores = cross_val_score(model , X , y , cv=kf , scoring='accuracy')\n",
    "print('accuracy per fold', scores)\n",
    "print('Mean Accuracy of K-Fold', np.mean(scores))"
   ]
  },
  {
   "cell_type": "markdown",
   "id": "e859bb88",
   "metadata": {},
   "source": [
    "# Stratified k-Fold"
   ]
  },
  {
   "cell_type": "code",
   "execution_count": 6,
   "id": "57c50e70",
   "metadata": {},
   "outputs": [],
   "source": [
    "from sklearn.model_selection import StratifiedKFold"
   ]
  },
  {
   "cell_type": "code",
   "execution_count": 7,
   "id": "a027b048",
   "metadata": {},
   "outputs": [],
   "source": [
    "data = load_breast_cancer()\n",
    "X = data.data\n",
    "y = data.target"
   ]
  },
  {
   "cell_type": "code",
   "execution_count": 8,
   "id": "96e82ca6",
   "metadata": {},
   "outputs": [
    {
     "name": "stdout",
     "output_type": "stream",
     "text": [
      "Score per fold [0.96491228 0.92105263 0.96491228 0.94736842 0.97345133]\n",
      "Score mean of Statified K-Fold 0.9543393882937432\n"
     ]
    }
   ],
   "source": [
    "model = LogisticRegression(max_iter=5000)\n",
    "skf = StratifiedKFold(n_splits=5 , shuffle=True , random_state=42)\n",
    "score = cross_val_score(model , X , y , cv=skf  , scoring='accuracy')\n",
    "print(\"Score per fold\", score)\n",
    "print('Score mean of Statified K-Fold', np.mean(score))"
   ]
  },
  {
   "cell_type": "markdown",
   "id": "c0239c46",
   "metadata": {},
   "source": [
    "# LOOCV\n",
    "- Small datasets (like ≤ 100 samples).\n",
    "- When you need the most unbiased estimate of generalization error.\n",
    "- Not recommended for large datasets (too slow)."
   ]
  },
  {
   "cell_type": "code",
   "execution_count": 9,
   "id": "ba3bb5e8",
   "metadata": {},
   "outputs": [
    {
     "name": "stdout",
     "output_type": "stream",
     "text": [
      "Number of iterations (fits): 150\n",
      "Mean Accuracy: 0.9666666666666667\n"
     ]
    }
   ],
   "source": [
    "from sklearn.model_selection import LeaveOneOut, cross_val_score\n",
    "from sklearn.datasets import load_iris\n",
    "from sklearn.linear_model import LogisticRegression\n",
    "import numpy as np\n",
    "\n",
    "# Load dataset\n",
    "data = load_iris()\n",
    "X, y = data.data, data.target\n",
    "\n",
    "# Define model\n",
    "model = LogisticRegression(max_iter=1000)\n",
    "\n",
    "# Apply Leave-One-Out CV\n",
    "loo = LeaveOneOut()\n",
    "scores = cross_val_score(model, X, y, cv=loo)\n",
    "\n",
    "print(\"Number of iterations (fits):\", len(scores))\n",
    "print(\"Mean Accuracy:\", np.mean(scores))\n"
   ]
  }
 ],
 "metadata": {
  "kernelspec": {
   "display_name": "Python 3",
   "language": "python",
   "name": "python3"
  },
  "language_info": {
   "codemirror_mode": {
    "name": "ipython",
    "version": 3
   },
   "file_extension": ".py",
   "mimetype": "text/x-python",
   "name": "python",
   "nbconvert_exporter": "python",
   "pygments_lexer": "ipython3",
   "version": "3.13.4"
  }
 },
 "nbformat": 4,
 "nbformat_minor": 5
}
