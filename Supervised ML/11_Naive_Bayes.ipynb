{
 "cells": [
  {
   "cell_type": "markdown",
   "id": "923306a1",
   "metadata": {},
   "source": [
    "#\n",
    "1. GaussianNB\n",
    "Best for continuous features (like in Iris: sepal length/width, petal length/width).\n",
    "\n",
    "2. MultinomialNB\n",
    "Designed for discrete counts (word frequencies in text classification, document-term matrix, etc.).\n",
    "\n",
    "3. BernoulliNB\n",
    "Works on binary features (0/1 yes/no type data)."
   ]
  },
  {
   "cell_type": "markdown",
   "id": "cc127550",
   "metadata": {},
   "source": [
    "# Import Libraries"
   ]
  },
  {
   "cell_type": "code",
   "execution_count": 1,
   "id": "a130bcbb",
   "metadata": {},
   "outputs": [],
   "source": [
    "import pandas as pd\n",
    "import seaborn as sns\n",
    "import numpy as np\n",
    "from sklearn.model_selection import train_test_split\n",
    "from sklearn.naive_bayes import GaussianNB , MultinomialNB , BernoulliNB\n",
    "from sklearn.metrics import accuracy_score, confusion_matrix, classification_report"
   ]
  },
  {
   "cell_type": "markdown",
   "id": "eb65da1b",
   "metadata": {},
   "source": [
    "# GaussianNB"
   ]
  },
  {
   "cell_type": "code",
   "execution_count": 2,
   "id": "090d6e82",
   "metadata": {},
   "outputs": [
    {
     "name": "stdout",
     "output_type": "stream",
     "text": [
      "confusion matrix:\n",
      " [[10  0  0]\n",
      " [ 0  9  0]\n",
      " [ 0  0 11]]\n",
      "Classification Report:\n",
      "               precision    recall  f1-score   support\n",
      "\n",
      "      setosa       1.00      1.00      1.00        10\n",
      "  versicolor       1.00      1.00      1.00         9\n",
      "   virginica       1.00      1.00      1.00        11\n",
      "\n",
      "    accuracy                           1.00        30\n",
      "   macro avg       1.00      1.00      1.00        30\n",
      "weighted avg       1.00      1.00      1.00        30\n",
      "\n"
     ]
    }
   ],
   "source": [
    "df = sns.load_dataset('iris')\n",
    "\n",
    "X = df.drop('species' , axis=1)\n",
    "y = df['species']\n",
    "X_train , X_test, y_train , y_test  = train_test_split(X , y , test_size=0.2 , random_state=42)\n",
    "model = GaussianNB()\n",
    "model.fit(X_train , y_train)\n",
    "y_pred = model.predict(X_test)\n",
    "print(\"confusion matrix:\\n\" , confusion_matrix(y_test , y_pred))\n",
    "print(\"Classification Report:\\n\" , classification_report(y_test , y_pred))\n"
   ]
  },
  {
   "cell_type": "markdown",
   "id": "c09b31c8",
   "metadata": {},
   "source": [
    "# MultinomialNB"
   ]
  },
  {
   "cell_type": "code",
   "execution_count": 5,
   "id": "24910906",
   "metadata": {},
   "outputs": [
    {
     "name": "stdout",
     "output_type": "stream",
     "text": [
      "✅ Accuracy: 0.0\n",
      "\n",
      "Confusion Matrix:\n",
      " [[0 1]\n",
      " [2 0]]\n",
      "\n",
      "Classification Report:\n",
      "               precision    recall  f1-score   support\n",
      "\n",
      "         ham       0.00      0.00      0.00       1.0\n",
      "        spam       0.00      0.00      0.00       2.0\n",
      "\n",
      "    accuracy                           0.00       3.0\n",
      "   macro avg       0.00      0.00      0.00       3.0\n",
      "weighted avg       0.00      0.00      0.00       3.0\n",
      "\n"
     ]
    }
   ],
   "source": [
    "from sklearn.feature_extraction.text import CountVectorizer\n",
    "from sklearn.naive_bayes import MultinomialNB\n",
    "\n",
    "# Sample SMS dataset\n",
    "data = {\n",
    "    \"text\": [\n",
    "        \"Win a free iPhone now!!!\", \n",
    "        \"Your account has been credited with $5000\", \n",
    "        \"Hello, are we meeting today?\", \n",
    "        \"Reminder: your bill is due tomorrow\", \n",
    "        \"Claim your lottery prize now!\", \n",
    "        \"Are you free for lunch?\", \n",
    "        \"Exclusive deal just for you\", \n",
    "        \"Hey, call me when you’re free\", \n",
    "        \"Congratulations! You won a gift card\", \n",
    "        \"Let’s catch up at 5\"\n",
    "    ],\n",
    "    \"label\": [\"spam\", \"spam\", \"ham\", \"ham\", \"spam\", \"ham\", \"spam\", \"ham\", \"spam\", \"ham\"]\n",
    "}\n",
    "df = pd.DataFrame(data)\n",
    "\n",
    "# Split features and labels\n",
    "X = df['text']\n",
    "y = df['label']\n",
    "\n",
    "# Train-test split\n",
    "X_train, X_test, y_train, y_test = train_test_split(X, y, test_size=0.3, random_state=42)\n",
    "\n",
    "# Convert text to word counts\n",
    "vectorizer = CountVectorizer()\n",
    "X_train_vec = vectorizer.fit_transform(X_train)\n",
    "X_test_vec = vectorizer.transform(X_test)\n",
    "\n",
    "# Train MultinomialNB\n",
    "model = MultinomialNB()\n",
    "model.fit(X_train_vec, y_train)\n",
    "\n",
    "# Predictions\n",
    "y_pred = model.predict(X_test_vec)\n",
    "\n",
    "# Evaluation\n",
    "print(\"✅ Accuracy:\", accuracy_score(y_test, y_pred))\n",
    "print(\"\\nConfusion Matrix:\\n\", confusion_matrix(y_test, y_pred))\n",
    "print(\"\\nClassification Report:\\n\", classification_report(y_test, y_pred))\n"
   ]
  }
 ],
 "metadata": {
  "kernelspec": {
   "display_name": "Python 3",
   "language": "python",
   "name": "python3"
  },
  "language_info": {
   "codemirror_mode": {
    "name": "ipython",
    "version": 3
   },
   "file_extension": ".py",
   "mimetype": "text/x-python",
   "name": "python",
   "nbconvert_exporter": "python",
   "pygments_lexer": "ipython3",
   "version": "3.13.4"
  }
 },
 "nbformat": 4,
 "nbformat_minor": 5
}
