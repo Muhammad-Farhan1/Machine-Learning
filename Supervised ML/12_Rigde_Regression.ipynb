{
 "cells": [
  {
   "cell_type": "markdown",
   "id": "70a8a9a0",
   "metadata": {},
   "source": [
    "# Ridge Regression"
   ]
  },
  {
   "cell_type": "code",
   "execution_count": 1,
   "id": "c68cc754",
   "metadata": {},
   "outputs": [],
   "source": [
    "import seaborn as sns\n",
    "from sklearn.compose import ColumnTransformer\n",
    "from sklearn.preprocessing import OneHotEncoder, StandardScaler\n",
    "from sklearn.linear_model import Ridge, LinearRegression\n",
    "from sklearn.pipeline import Pipeline\n",
    "from sklearn.model_selection import train_test_split\n",
    "from sklearn.metrics import mean_absolute_error, r2_score, mean_squared_error\n",
    "import warnings\n",
    "warnings.filterwarnings('ignore')"
   ]
  },
  {
   "cell_type": "code",
   "execution_count": 2,
   "id": "285be5af",
   "metadata": {},
   "outputs": [],
   "source": [
    "# 1. Load dataset\n",
    "df = sns.load_dataset('diamonds')\n",
    "\n",
    "X = df.drop('price', axis=1)\n",
    "y = df['price']\n",
    "\n",
    "# 2. Numerical & Categorical features\n",
    "num_features = [\"carat\", \"depth\", \"table\", \"x\", \"y\", \"z\"]\n",
    "cat_features = [\"cut\", \"color\", \"clarity\"]\n",
    "\n",
    "# 3. Preprocessing\n",
    "preprocessing = ColumnTransformer([\n",
    "    ('num', StandardScaler(), num_features),\n",
    "    ('cat', OneHotEncoder(), cat_features)\n",
    "])\n",
    "\n",
    "# 4. Train-Test Split\n",
    "X_train, X_test, y_train, y_test = train_test_split(X, y, test_size=0.2, random_state=42)\n"
   ]
  },
  {
   "cell_type": "markdown",
   "id": "db0f020a",
   "metadata": {},
   "source": [
    "# Linear Regression"
   ]
  },
  {
   "cell_type": "code",
   "execution_count": 3,
   "id": "b754f8cb",
   "metadata": {},
   "outputs": [
    {
     "name": "stdout",
     "output_type": "stream",
     "text": [
      "\n",
      " Linear Regression on Diamonds Dataset\n",
      "MSE: 1288705.477851676\n",
      "MAE: 737.1513665933284\n",
      "R2 Score: 0.9189331350419386\n"
     ]
    }
   ],
   "source": [
    "linear_pipeline = Pipeline([\n",
    "    ('preprocessor', preprocessing),\n",
    "    ('model', LinearRegression())\n",
    "])\n",
    "linear_pipeline.fit(X_train, y_train)\n",
    "y_pred_linear = linear_pipeline.predict(X_test)\n",
    "\n",
    "print(\"\\n Linear Regression on Diamonds Dataset\")\n",
    "print(\"MSE:\", mean_squared_error(y_test, y_pred_linear))\n",
    "print(\"MAE:\", mean_absolute_error(y_test, y_pred_linear))\n",
    "print(\"R2 Score:\", r2_score(y_test, y_pred_linear))"
   ]
  },
  {
   "cell_type": "markdown",
   "id": "04e9e727",
   "metadata": {},
   "source": [
    "# Ridge Regression "
   ]
  },
  {
   "cell_type": "code",
   "execution_count": 4,
   "id": "4c9d6c94",
   "metadata": {},
   "outputs": [
    {
     "name": "stdout",
     "output_type": "stream",
     "text": [
      "\n",
      " Ridge Regression on Diamonds Dataset\n",
      "MSE: 1288677.6768713535\n",
      "MAE: 737.1401555418586\n",
      "R2 Score: 0.9189348838808753\n"
     ]
    }
   ],
   "source": [
    "ridge_pipeline = Pipeline([\n",
    "    ('preprocessor', preprocessing),\n",
    "    ('model', Ridge(alpha=1.0)) #Alpha should be >= 0 \n",
    "])\n",
    "ridge_pipeline.fit(X_train, y_train)\n",
    "y_pred_ridge = ridge_pipeline.predict(X_test)\n",
    "\n",
    "print(\"\\n Ridge Regression on Diamonds Dataset\")\n",
    "print(\"MSE:\", mean_squared_error(y_test, y_pred_ridge))\n",
    "print(\"MAE:\", mean_absolute_error(y_test, y_pred_ridge))\n",
    "print(\"R2 Score:\", r2_score(y_test, y_pred_ridge))"
   ]
  }
 ],
 "metadata": {
  "kernelspec": {
   "display_name": "Python 3",
   "language": "python",
   "name": "python3"
  },
  "language_info": {
   "codemirror_mode": {
    "name": "ipython",
    "version": 3
   },
   "file_extension": ".py",
   "mimetype": "text/x-python",
   "name": "python",
   "nbconvert_exporter": "python",
   "pygments_lexer": "ipython3",
   "version": "3.13.4"
  }
 },
 "nbformat": 4,
 "nbformat_minor": 5
}
