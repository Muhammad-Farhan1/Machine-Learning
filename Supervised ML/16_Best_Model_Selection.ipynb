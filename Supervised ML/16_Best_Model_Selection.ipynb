{
 "cells": [
  {
   "cell_type": "markdown",
   "id": "7185774e",
   "metadata": {},
   "source": [
    "### Import Neccessary libraries for Best Model Selection"
   ]
  },
  {
   "cell_type": "code",
   "execution_count": 1,
   "id": "3a696f95",
   "metadata": {},
   "outputs": [],
   "source": [
    "import pandas as pd\n",
    "import seaborn as sns\n",
    "from sklearn.model_selection import train_test_split , cross_val_score , RandomizedSearchCV\n",
    "from sklearn.preprocessing import StandardScaler , OneHotEncoder\n",
    "from sklearn.compose import ColumnTransformer\n",
    "from sklearn.pipeline import Pipeline\n",
    "from sklearn.linear_model import LinearRegression\n",
    "from sklearn.tree import DecisionTreeRegressor\n",
    "from sklearn.ensemble import RandomForestRegressor\n",
    "from sklearn.neighbors import KNeighborsRegressor\n",
    "from sklearn.ensemble import GradientBoostingRegressor\n",
    "from xgboost import XGBRegressor\n",
    "from sklearn.metrics import mean_squared_error , mean_absolute_error \n"
   ]
  },
  {
   "cell_type": "code",
   "execution_count": 2,
   "id": "53b50fc6",
   "metadata": {},
   "outputs": [
    {
     "data": {
      "text/html": [
       "<div>\n",
       "<style scoped>\n",
       "    .dataframe tbody tr th:only-of-type {\n",
       "        vertical-align: middle;\n",
       "    }\n",
       "\n",
       "    .dataframe tbody tr th {\n",
       "        vertical-align: top;\n",
       "    }\n",
       "\n",
       "    .dataframe thead th {\n",
       "        text-align: right;\n",
       "    }\n",
       "</style>\n",
       "<table border=\"1\" class=\"dataframe\">\n",
       "  <thead>\n",
       "    <tr style=\"text-align: right;\">\n",
       "      <th></th>\n",
       "      <th>carat</th>\n",
       "      <th>cut</th>\n",
       "      <th>color</th>\n",
       "      <th>clarity</th>\n",
       "      <th>depth</th>\n",
       "      <th>table</th>\n",
       "      <th>price</th>\n",
       "      <th>x</th>\n",
       "      <th>y</th>\n",
       "      <th>z</th>\n",
       "    </tr>\n",
       "  </thead>\n",
       "  <tbody>\n",
       "    <tr>\n",
       "      <th>0</th>\n",
       "      <td>0.23</td>\n",
       "      <td>Ideal</td>\n",
       "      <td>E</td>\n",
       "      <td>SI2</td>\n",
       "      <td>61.5</td>\n",
       "      <td>55.0</td>\n",
       "      <td>326</td>\n",
       "      <td>3.95</td>\n",
       "      <td>3.98</td>\n",
       "      <td>2.43</td>\n",
       "    </tr>\n",
       "    <tr>\n",
       "      <th>1</th>\n",
       "      <td>0.21</td>\n",
       "      <td>Premium</td>\n",
       "      <td>E</td>\n",
       "      <td>SI1</td>\n",
       "      <td>59.8</td>\n",
       "      <td>61.0</td>\n",
       "      <td>326</td>\n",
       "      <td>3.89</td>\n",
       "      <td>3.84</td>\n",
       "      <td>2.31</td>\n",
       "    </tr>\n",
       "    <tr>\n",
       "      <th>2</th>\n",
       "      <td>0.23</td>\n",
       "      <td>Good</td>\n",
       "      <td>E</td>\n",
       "      <td>VS1</td>\n",
       "      <td>56.9</td>\n",
       "      <td>65.0</td>\n",
       "      <td>327</td>\n",
       "      <td>4.05</td>\n",
       "      <td>4.07</td>\n",
       "      <td>2.31</td>\n",
       "    </tr>\n",
       "    <tr>\n",
       "      <th>3</th>\n",
       "      <td>0.29</td>\n",
       "      <td>Premium</td>\n",
       "      <td>I</td>\n",
       "      <td>VS2</td>\n",
       "      <td>62.4</td>\n",
       "      <td>58.0</td>\n",
       "      <td>334</td>\n",
       "      <td>4.20</td>\n",
       "      <td>4.23</td>\n",
       "      <td>2.63</td>\n",
       "    </tr>\n",
       "    <tr>\n",
       "      <th>4</th>\n",
       "      <td>0.31</td>\n",
       "      <td>Good</td>\n",
       "      <td>J</td>\n",
       "      <td>SI2</td>\n",
       "      <td>63.3</td>\n",
       "      <td>58.0</td>\n",
       "      <td>335</td>\n",
       "      <td>4.34</td>\n",
       "      <td>4.35</td>\n",
       "      <td>2.75</td>\n",
       "    </tr>\n",
       "  </tbody>\n",
       "</table>\n",
       "</div>"
      ],
      "text/plain": [
       "   carat      cut color clarity  depth  table  price     x     y     z\n",
       "0   0.23    Ideal     E     SI2   61.5   55.0    326  3.95  3.98  2.43\n",
       "1   0.21  Premium     E     SI1   59.8   61.0    326  3.89  3.84  2.31\n",
       "2   0.23     Good     E     VS1   56.9   65.0    327  4.05  4.07  2.31\n",
       "3   0.29  Premium     I     VS2   62.4   58.0    334  4.20  4.23  2.63\n",
       "4   0.31     Good     J     SI2   63.3   58.0    335  4.34  4.35  2.75"
      ]
     },
     "execution_count": 2,
     "metadata": {},
     "output_type": "execute_result"
    }
   ],
   "source": [
    "#Load the dataset\n",
    "df = sns.load_dataset('diamonds')\n",
    "df.head()"
   ]
  },
  {
   "cell_type": "code",
   "execution_count": 3,
   "id": "4f03ec7f",
   "metadata": {},
   "outputs": [],
   "source": [
    "#Features and label\n",
    "#Labels\n",
    "X = df.drop('price', axis=1)\n",
    "y = df['price']\n",
    "\n",
    "X_train, X_test, y_train, y_test = train_test_split(X , y , test_size=0.2 , random_state=42)"
   ]
  },
  {
   "cell_type": "code",
   "execution_count": 4,
   "id": "586bb1a4",
   "metadata": {},
   "outputs": [],
   "source": [
    "#Separating Features\n",
    "num_features = ['carat' , 'depth', 'table' , 'x', 'y', 'z']\n",
    "cate_features = [col for col in X.columns if col not in num_features]\n",
    "\n",
    "#Pre_Processing\n",
    "preprocessing = ColumnTransformer([\n",
    "    ('num' , StandardScaler() , num_features),\n",
    "    ('cate' , OneHotEncoder() , cate_features)\n",
    "])"
   ]
  },
  {
   "cell_type": "code",
   "execution_count": 5,
   "id": "a9f05dfc",
   "metadata": {},
   "outputs": [],
   "source": [
    "#All models\n",
    "models = {\n",
    "    'LinearRegression' : LinearRegression(),\n",
    "    'DecisionTreeRegressor' : DecisionTreeRegressor(),\n",
    "    'KNeighborsRegressor' : KNeighborsRegressor(),\n",
    "    'GradientBoostingRegressor' : GradientBoostingRegressor(),\n",
    "    'XGBRegressor' : XGBRegressor(),\n",
    "    'RandomForestRegressor' : RandomForestRegressor()\n",
    "}"
   ]
  },
  {
   "cell_type": "code",
   "execution_count": 6,
   "id": "09752732",
   "metadata": {},
   "outputs": [
    {
     "name": "stdout",
     "output_type": "stream",
     "text": [
      "LinearRegression: Mean Absolute Error = 742.8340\n",
      "DecisionTreeRegressor: Mean Absolute Error = 377.2043\n",
      "KNeighborsRegressor: Mean Absolute Error = 433.0429\n",
      "GradientBoostingRegressor: Mean Absolute Error = 408.0043\n",
      "XGBRegressor: Mean Absolute Error = 293.7107\n",
      "RandomForestRegressor: Mean Absolute Error = 280.5791\n"
     ]
    }
   ],
   "source": [
    "\n",
    "for name,model in models.items():\n",
    "    pipeline = Pipeline([\n",
    "        ('preprocessing' , preprocessing),\n",
    "        ('model' , model)\n",
    "    ])\n",
    "    scores = cross_val_score(pipeline, X_train, y_train, cv=3, n_jobs=-1 , scoring='neg_mean_absolute_error')\n",
    "    mae = -scores.mean()\n",
    "    print(f\"{name}: Mean Absolute Error = {mae:.4f}\")"
   ]
  },
  {
   "cell_type": "markdown",
   "id": "af10406c",
   "metadata": {},
   "source": [
    "### Best Model Prooved `RandomForestRegressor`"
   ]
  },
  {
   "cell_type": "code",
   "execution_count": 7,
   "id": "3c3028b4",
   "metadata": {},
   "outputs": [
    {
     "name": "stdout",
     "output_type": "stream",
     "text": [
      "Best RF Params: {'model__n_estimators': 200, 'model__min_samples_split': 5, 'model__min_samples_leaf': 1, 'model__max_depth': None}\n",
      "Best RF MAE: 279.33813889149036\n",
      "Test MAE (RF): 270.0931284303242\n"
     ]
    }
   ],
   "source": [
    "#Random forest Tuning\n",
    "rf_params_grid = {\n",
    "    'model__n_estimators' : [100,200,300],\n",
    "    'model__max_depth' : [None , 10, 20 ,30],\n",
    "    'model__min_samples_split' : [2, 5, 7],\n",
    "    'model__min_samples_leaf' : [1,3,5]\n",
    "}\n",
    "\n",
    "rf_pipeline = Pipeline([\n",
    "    ('preprocessing', preprocessing),\n",
    "    ('model' , RandomForestRegressor())\n",
    "])\n",
    "\n",
    "rf_search = RandomizedSearchCV(\n",
    "    rf_pipeline,\n",
    "    rf_params_grid,\n",
    "    cv=3,\n",
    "    n_jobs=-1,\n",
    "    scoring='neg_mean_absolute_error',\n",
    "    random_state=42\n",
    ")\n",
    "\n",
    "rf_search.fit(X_train, y_train)\n",
    "\n",
    "print(\"Best RF Params:\", rf_search.best_params_)\n",
    "print(\"Best RF MAE:\", -rf_search.best_score_)\n",
    "\n",
    "# Evaluate on test set\n",
    "y_pred_rf = rf_search.predict(X_test)\n",
    "print(\"Test MAE (RF):\", mean_absolute_error(y_test, y_pred_rf))"
   ]
  },
  {
   "cell_type": "markdown",
   "id": "386055f3",
   "metadata": {},
   "source": [
    "### Before Tuning, MAE Of `RandomForestRegressor` was 281.0377\n",
    "### After Tuning, MAE Of `RandomForestRegressor` now is  268.7785"
   ]
  },
  {
   "cell_type": "markdown",
   "id": "8b69a8d9",
   "metadata": {},
   "source": []
  }
 ],
 "metadata": {
  "kernelspec": {
   "display_name": "Python 3",
   "language": "python",
   "name": "python3"
  },
  "language_info": {
   "codemirror_mode": {
    "name": "ipython",
    "version": 3
   },
   "file_extension": ".py",
   "mimetype": "text/x-python",
   "name": "python",
   "nbconvert_exporter": "python",
   "pygments_lexer": "ipython3",
   "version": "3.13.4"
  }
 },
 "nbformat": 4,
 "nbformat_minor": 5
}
